{
 "cells": [
  {
   "cell_type": "markdown",
   "metadata": {},
   "source": [
    "# Export Model to Google Cloud Storage\n",
    "\n",
    "The following snippet allows you to export your model to Google Storage on the Google Cloud Platform using gcloud commands."
   ]
  },
  {
   "cell_type": "code",
   "execution_count": 0,
   "metadata": {},
   "outputs": [],
   "source": [
    "# Set your BUCKET name based on the project to guarantee that it is unique\n",
    "PROJECT = !gcloud config get-value project\n",
    "BUCKET = PROJECT[0] + '-bucket'"
   ]
  },
  {
   "cell_type": "code",
   "execution_count": 0,
   "metadata": {},
   "outputs": [],
   "source": [
    "# Make the Google storage bucket\n",
    "!gsutil mb gs://{BUCKET}"
   ]
  },
  {
   "cell_type": "code",
   "execution_count": 0,
   "metadata": {},
   "outputs": [],
   "source": [
    "# Copy over your servable model to the bucket\n",
    "!gsutil -m cp -r <keras_servable | estimator_servable> gs://{BUCKET}/"
   ]
  }
 ],
 "metadata": {
  "kernelspec": {
   "display_name": "Python 3",
   "language": "python",
   "name": "python3"
  }
 },
 "nbformat": 4,
 "nbformat_minor": 2
}
